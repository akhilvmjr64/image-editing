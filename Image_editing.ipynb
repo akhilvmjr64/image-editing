{
 "cells": [
  {
   "cell_type": "markdown",
   "id": "5d11a72a",
   "metadata": {},
   "source": [
    "# Creating an image in python"
   ]
  },
  {
   "cell_type": "code",
   "execution_count": null,
   "id": "6bfd7ded",
   "metadata": {},
   "outputs": [],
   "source": [
    "import cv2\n",
    "import numpy as np\n",
    "import matplotlib.pyplot as plt"
   ]
  },
  {
   "cell_type": "code",
   "execution_count": null,
   "id": "be4adb72",
   "metadata": {},
   "outputs": [],
   "source": [
    "image=np.zeros((500,500,3),dtype='uint8')"
   ]
  },
  {
   "cell_type": "code",
   "execution_count": null,
   "id": "097295b7",
   "metadata": {},
   "outputs": [],
   "source": [
    "for i in range(250,0,-1):\n",
    "    k=(i+3)*2-2\n",
    "    image[250-i:250+i,250-i:250+i]=[i,i,i]\n",
    "\n",
    "r=50\n",
    "for i in range(-r,r+1):\n",
    "    d=round((2*r*abs(r-abs(i))-(r-abs(i))**2)**0.5)\n",
    "    image[250+r+i,250+r-d:250+r+d]=[0,200,200]\n",
    "    image[250-r+i,250-r-d:250-r+d]=[0,200,200]\n",
    "    image[250+r+i,250-r-d:250-r+d]=[0,200,200]\n",
    "    image[250-r+i,250+r-d:250+r+d]=[0,200,200]\n",
    "\n",
    "for i in range(-r,r+1):\n",
    "    d=round((2*r*abs(r-abs(i))-(r-abs(i))**2)**0.5)\n",
    "    image[250+i,250-d:250+d]=[42,42,165]\n",
    "\n",
    "r=3*r\n",
    "for i in range(-r,r+1):\n",
    "    d=round((2*r*abs(r-abs(i))-(r-abs(i))**2)**0.5)\n",
    "    image[i,0:d]=[200,100,100]\n",
    "    image[-i,500-d:500]=[200,100,100]\n",
    "\n",
    "while True:\n",
    "    cv2.imshow('hai',image)\n",
    "    if cv2.waitKey(1)==ord('q'):\n",
    "        break\n",
    "cv2.destroyAllWindows()"
   ]
  },
  {
   "cell_type": "code",
   "execution_count": null,
   "id": "819972bc",
   "metadata": {},
   "outputs": [],
   "source": [
    "cv2.imwrite('output.png',image)"
   ]
  },
  {
   "cell_type": "markdown",
   "id": "ad283841",
   "metadata": {},
   "source": [
    "# Cropping and swapping"
   ]
  },
  {
   "cell_type": "code",
   "execution_count": null,
   "id": "d2bcc866",
   "metadata": {},
   "outputs": [],
   "source": [
    "image1 = cv2.imread('./cricket.jpg')\n",
    "image2 = cv2.imread('./football.jpeg')"
   ]
  },
  {
   "cell_type": "code",
   "execution_count": null,
   "id": "e1d7a18c",
   "metadata": {},
   "outputs": [],
   "source": [
    "# # if u want to see the images using cv2 u can run the following code by uncommenting it\n",
    "# # as the images are too large windows will be too big hence didn't use cv2 to show the images\n",
    "# cv2.imshow('image1',image1)\n",
    "# cv2.imshow('image2',image2)\n",
    "# cv2.waitKey()\n",
    "# cv2.destroyAllWindows()"
   ]
  },
  {
   "cell_type": "code",
   "execution_count": null,
   "id": "a9099d52",
   "metadata": {},
   "outputs": [],
   "source": [
    "plt.imshow(cv2.cvtColor(image1,cv2.COLOR_BGR2RGB))"
   ]
  },
  {
   "cell_type": "code",
   "execution_count": null,
   "id": "edde93f1",
   "metadata": {},
   "outputs": [],
   "source": [
    "plt.imshow(cv2.cvtColor(image2,cv2.COLOR_BGR2RGB))"
   ]
  },
  {
   "cell_type": "code",
   "execution_count": null,
   "id": "10420676",
   "metadata": {},
   "outputs": [],
   "source": [
    "cricketball=image1[200:730,440:950]\n",
    "plt.imshow(cv2.cvtColor(cricketball,cv2.COLOR_BGR2RGB))\n",
    "cballshape=cricketball.shape[-2::-1]"
   ]
  },
  {
   "cell_type": "code",
   "execution_count": null,
   "id": "3841bc29",
   "metadata": {},
   "outputs": [],
   "source": [
    "football=image2[465:790,535:865]\n",
    "plt.imshow(cv2.cvtColor(football,cv2.COLOR_BGR2RGB))\n",
    "fballshape=football.shape[-2::-1]"
   ]
  },
  {
   "cell_type": "code",
   "execution_count": null,
   "id": "9b31fc46",
   "metadata": {},
   "outputs": [],
   "source": [
    "cricketball=cv2.resize(cricketball,fballshape)\n",
    "football=cv2.resize(football,cballshape)"
   ]
  },
  {
   "cell_type": "code",
   "execution_count": null,
   "id": "011f11f5",
   "metadata": {},
   "outputs": [],
   "source": [
    "image1[200:730,440:950]=football\n",
    "image2[465:790,535:865]=cricketball"
   ]
  },
  {
   "cell_type": "code",
   "execution_count": null,
   "id": "28cea94b",
   "metadata": {},
   "outputs": [],
   "source": [
    "plt.imshow(cv2.cvtColor(image1,cv2.COLOR_BGR2RGB))"
   ]
  },
  {
   "cell_type": "code",
   "execution_count": null,
   "id": "8de65dcd",
   "metadata": {},
   "outputs": [],
   "source": [
    "plt.imshow(cv2.cvtColor(image2,cv2.COLOR_BGR2RGB))"
   ]
  },
  {
   "cell_type": "markdown",
   "id": "0a02420c",
   "metadata": {},
   "source": [
    "# Creating a photo college"
   ]
  },
  {
   "cell_type": "code",
   "execution_count": null,
   "id": "183b5588",
   "metadata": {},
   "outputs": [],
   "source": [
    "image1 = cv2.imread('./cricket.jpg')\n",
    "image2 = cv2.imread('./football.jpeg')"
   ]
  },
  {
   "cell_type": "code",
   "execution_count": null,
   "id": "dff98d0f",
   "metadata": {},
   "outputs": [],
   "source": [
    "def photocollage(image1,image2,axis=0):\n",
    "    if axis==0:\n",
    "        cols=image1.shape[1]+50 if image1.shape[1]>image2.shape[1] else image2.shape[1]+50\n",
    "        first = np.zeros((image1.shape[0]+50, cols, 3),dtype='uint8')+255\n",
    "        extra=0\n",
    "        if image1.shape[1]%2!=0:\n",
    "            extra=1\n",
    "        first[25:image1.shape[0]+25, cols//2-image1.shape[1]//2:cols//2+image1.shape[1]//2+extra]=image1\n",
    "        second = np.zeros((image2.shape[0]+50,cols,3),dtype='uint8')+255\n",
    "        extra=0\n",
    "        if image2.shape[1]%2!=0:\n",
    "            extra=1\n",
    "        second[25:image2.shape[0]+25,cols//2-image2.shape[1]//2:cols//2+image2.shape[1]//2+extra]=image2\n",
    "        return np.concatenate((first,second))\n",
    "    if axis==1:\n",
    "        rows=image1.shape[0]+50 if image1.shape[0]>image2.shape[0] else image2.shape[0]+50\n",
    "        first = np.zeros((rows, image1.shape[1]+50, 3),dtype='uint8')+255\n",
    "        extra=0\n",
    "        if image1.shape[0]%2!=0:\n",
    "            extra=1\n",
    "            \n",
    "        first[rows//2-image1.shape[0]//2:rows//2+image1.shape[0]//2+extra,25:image1.shape[1]+25]=image1\n",
    "        second = np.zeros((rows,image2.shape[1]+50,3),dtype='uint8')+255\n",
    "        extra=0\n",
    "        if image2.shape[0]%2!=0:\n",
    "            extra=1\n",
    "        second[rows//2-image2.shape[0]//2:rows//2+image2.shape[0]//2+extra,25:image2.shape[1]+25]=image2\n",
    "        return np.concatenate((first,second),axis=1)"
   ]
  },
  {
   "cell_type": "code",
   "execution_count": null,
   "id": "295761a3",
   "metadata": {},
   "outputs": [],
   "source": [
    "rowwise=photocollage(image1,image2)\n",
    "plt.imshow(cv2.cvtColor(rowwise,cv2.COLOR_BGR2RGB))"
   ]
  },
  {
   "cell_type": "code",
   "execution_count": null,
   "id": "3ec20319",
   "metadata": {},
   "outputs": [],
   "source": [
    "colwise=photocollage(image1,image2,axis=1)\n",
    "plt.imshow(cv2.cvtColor(colwise,cv2.COLOR_BGR2RGB))"
   ]
  },
  {
   "cell_type": "code",
   "execution_count": null,
   "id": "558c87f7",
   "metadata": {},
   "outputs": [],
   "source": []
  }
 ],
 "metadata": {
  "kernelspec": {
   "display_name": "Python 3",
   "language": "python",
   "name": "python3"
  },
  "language_info": {
   "codemirror_mode": {
    "name": "ipython",
    "version": 3
   },
   "file_extension": ".py",
   "mimetype": "text/x-python",
   "name": "python",
   "nbconvert_exporter": "python",
   "pygments_lexer": "ipython3",
   "version": "3.8.8"
  }
 },
 "nbformat": 4,
 "nbformat_minor": 5
}
